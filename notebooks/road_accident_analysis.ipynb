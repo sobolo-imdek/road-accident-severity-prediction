{
 "cells": [
  {
   "cell_type": "markdown",
   "id": "8f0ae185-4c13-4b21-ad82-4791927ce364",
   "metadata": {},
   "source": [
    "# 🚗 Road Accident Severity Prediction\n",
    "\n",
    "This notebook predicts the **severity of road accidents** using machine learning — specifically **Logistic Regression**.  \n",
    "It analyzes various features such as **road type, weather conditions, light conditions, and time of day** to estimate whether an accident will be **mild or severe**.\n",
    "\n",
    "---\n",
    "\n",
    "## 🧠 Objectives\n",
    "- Load and preprocess road accident data  \n",
    "- Encode categorical variables and scale numerical ones  \n",
    "- Train a logistic regression model  \n",
    "- Evaluate model performance with accuracy, confusion matrix, and classification report  \n",
    "- Visualize insights from the data\n",
    "\n",
    "---\n",
    "\n",
    "## 📊 Dataset\n",
    "A synthetic or real dataset containing road accident records, each labeled with accident severity levels.  \n",
    "Columns typically include:\n",
    "- `Weather`\n",
    "- `Road_Type`\n",
    "- `Vehicle_Type`\n",
    "- `Light_Conditions`\n",
    "- `Accident_Severity`\n",
    "\n",
    "---\n",
    "\n",
    "## ⚙️ Tools Used\n",
    "- **Python 3.13+**\n",
    "- **Pandas** — data manipulation  \n",
    "- **Scikit-Learn** — modeling and evaluation  \n",
    "- **Seaborn / Matplotlib** — visualization  \n",
    "\n",
    "---\n",
    "\n",
    "## 📈 Expected Output\n",
    "- Cleaned dataset and encoded features  \n",
    "- Trained logistic regression model  \n",
    "- Model saved as `models/accident_severity_model.joblib`  \n",
    "- Evaluation metrics showing prediction performance\n"
   ]
  },
  {
   "cell_type": "markdown",
   "id": "c5dc840d-ef60-4c66-b237-40e137140a93",
   "metadata": {},
   "source": [
    "<font size=\"5\"><b>🔹 Step 1: Import Libraries</b></font>\n"
   ]
  },
  {
   "cell_type": "code",
   "execution_count": 4,
   "id": "44227822-9c36-479c-ad3d-339732124333",
   "metadata": {},
   "outputs": [
    {
     "name": "stdout",
     "output_type": "stream",
     "text": [
      "✅ All libraries imported successfully!\n"
     ]
    }
   ],
   "source": [
    "import pandas as pd\n",
    "import numpy as np\n",
    "import matplotlib.pyplot as plt\n",
    "import seaborn as sns\n",
    "from sklearn.model_selection import train_test_split\n",
    "from sklearn.preprocessing import StandardScaler\n",
    "from sklearn.linear_model import LogisticRegression\n",
    "from sklearn.metrics import accuracy_score, classification_report, confusion_matrix\n",
    "import joblib\n",
    "\n",
    "print(\"✅ All libraries imported successfully!\")\n"
   ]
  },
  {
   "cell_type": "markdown",
   "id": "7b186f6c-737f-4af7-b800-e7d3b87f4300",
   "metadata": {},
   "source": [
    "<font size=\"5\"><b>🔹 Step 2: Load Dataset</b></font>\n"
   ]
  },
  {
   "cell_type": "code",
   "execution_count": 1,
   "id": "90ff3d13-4f24-4165-a77f-f32f5da48aa6",
   "metadata": {},
   "outputs": [
    {
     "name": "stdout",
     "output_type": "stream",
     "text": [
      "⚠️ No dataset found — generating sample data for testing.\n"
     ]
    }
   ],
   "source": [
    "import pandas as pd\n",
    "import os\n",
    "\n",
    "# ✅ Check for a real dataset\n",
    "data_path = \"../data/accidents.csv\"\n",
    "\n",
    "if os.path.exists(data_path):\n",
    "    df = pd.read_csv(data_path)\n",
    "    print(f\"✅ Loaded dataset from {data_path} — {df.shape[0]} rows, {df.shape[1]} columns.\")\n",
    "else:\n",
    "    print(\"⚠️ No dataset found — generating sample data for testing.\")\n",
    "    import numpy as np\n",
    "    np.random.seed(42)\n",
    "    df = pd.DataFrame({\n",
    "        'weather': np.random.choice(['Clear', 'Rainy', 'Foggy', 'Snowy'], 200),\n",
    "        'road_type': np.random.choice(['Highway', 'Rural', 'Urban'], 200),\n",
    "        'vehicle_type': np.random.choice(['Car', 'Motorcycle', 'Truck', 'Bus'], 200),\n",
    "        'light_condition': np.random.choice(['Daylight', 'Dark'], 200),\n",
    "        'speed': np.random.randint(30, 120, 200),\n",
    "        'age_of_driver': np.random.randint(18, 70, 200),\n",
    "        'accident_severity': np.random.choice([0, 1], 200, p=[0.7, 0.3])\n",
    "    })\n",
    "\n"
   ]
  },
  {
   "cell_type": "code",
   "execution_count": 2,
   "id": "3900f3b6-9658-4a2c-b4fa-47b102a5cd4c",
   "metadata": {},
   "outputs": [
    {
     "name": "stdout",
     "output_type": "stream",
     "text": [
      "Shape of dataset: (200, 7)\n",
      "\n",
      "Columns:\n",
      " ['weather', 'road_type', 'vehicle_type', 'light_condition', 'speed', 'age_of_driver', 'accident_severity']\n",
      "\n",
      "Data types:\n",
      "\n",
      "weather              object\n",
      "road_type            object\n",
      "vehicle_type         object\n",
      "light_condition      object\n",
      "speed                 int32\n",
      "age_of_driver         int32\n",
      "accident_severity     int64\n",
      "dtype: object\n",
      "\n",
      "Missing values:\n",
      "\n",
      "weather              0\n",
      "road_type            0\n",
      "vehicle_type         0\n",
      "light_condition      0\n",
      "speed                0\n",
      "age_of_driver        0\n",
      "accident_severity    0\n",
      "dtype: int64\n",
      "\n",
      "weather: ['Foggy' 'Snowy' 'Clear' 'Rainy']\n",
      "\n",
      "road_type: ['Urban' 'Highway' 'Rural']\n",
      "\n",
      "vehicle_type: ['Car' 'Motorcycle' 'Truck' 'Bus']\n",
      "\n",
      "light_condition: ['Daylight' 'Dark']\n"
     ]
    }
   ],
   "source": [
    "# Check basic info\n",
    "print(\"Shape of dataset:\", df.shape)\n",
    "print(\"\\nColumns:\\n\", df.columns.tolist())\n",
    "print(\"\\nData types:\\n\")\n",
    "print(df.dtypes)\n",
    "print(\"\\nMissing values:\\n\")\n",
    "print(df.isnull().sum())\n",
    "\n",
    "# View some unique values\n",
    "for col in df.select_dtypes(include='object').columns:\n",
    "    print(f\"\\n{col}: {df[col].unique()[:5]}\")\n"
   ]
  },
  {
   "cell_type": "code",
   "execution_count": 7,
   "id": "460c70c0-0dea-4853-93b0-d1b0a54c589a",
   "metadata": {},
   "outputs": [
    {
     "name": "stdout",
     "output_type": "stream",
     "text": [
      "✅ All categorical columns encoded.\n",
      "\n",
      "Feature set shape: (200, 6)\n",
      "Target shape: (200,)\n",
      "\n",
      "✅ Data split complete:\n",
      "Training set: (160, 6)\n",
      "Testing set:  (40, 6)\n",
      "\n"
     ]
    }
   ],
   "source": [
    "#  Data Preprocessing\n",
    "\n",
    "from sklearn.preprocessing import LabelEncoder\n",
    "from sklearn.model_selection import train_test_split\n",
    "from sklearn.preprocessing import StandardScaler\n",
    "\n",
    "# 1️⃣  Encode categorical columns\n",
    "df_encoded = df.copy()\n",
    "label_encoders = {}\n",
    "\n",
    "for col in df_encoded.select_dtypes(include='object').columns:\n",
    "    le = LabelEncoder()\n",
    "    df_encoded[col] = le.fit_transform(df_encoded[col])\n",
    "    label_encoders[col] = le  # Save encoders for later decoding if needed\n",
    "\n",
    "print(\"✅ All categorical columns encoded.\\n\")\n",
    "\n",
    "# 2️⃣  Split features (X) and target (y)\n",
    "X = df_encoded.drop('accident_severity', axis=1)\n",
    "y = df_encoded['accident_severity']\n",
    "\n",
    "\n",
    "print(f\"Feature set shape: {X.shape}\")\n",
    "print(f\"Target shape: {y.shape}\\n\")\n",
    "\n",
    "# 3️⃣  Split data into training & testing sets (80 / 20)\n",
    "X_train, X_test, y_train, y_test = train_test_split(\n",
    "    X, y, test_size=0.2, random_state=42, stratify=y\n",
    ")\n",
    "\n",
    "print(\"✅ Data split complete:\")\n",
    "print(f\"Training set: {X_train.shape}\")\n",
    "print(f\"Testing set:  {X_test.shape}\\n\")\n",
    "\n",
    "#\n"
   ]
  },
  {
   "cell_type": "code",
   "execution_count": 8,
   "id": "c67682ab-c600-43e0-8122-2072af5469b2",
   "metadata": {},
   "outputs": [
    {
     "name": "stdout",
     "output_type": "stream",
     "text": [
      "✅ Scaling complete.\n"
     ]
    }
   ],
   "source": [
    "from sklearn.preprocessing import StandardScaler\n",
    "\n",
    "scaler = StandardScaler()\n",
    "X_train_scaled = scaler.fit_transform(X_train)\n",
    "X_test_scaled = scaler.transform(X_test)\n",
    "\n",
    "print(\"✅ Scaling complete.\")\n"
   ]
  },
  {
   "cell_type": "markdown",
   "id": "402891e2-1eff-4bed-862e-854997d15c12",
   "metadata": {},
   "source": [
    "<font size=\"5\"><b>🔹Step 3: Train and evaluate model</b></font>"
   ]
  },
  {
   "cell_type": "code",
   "execution_count": 12,
   "id": "af631a8e-3e3b-4c2e-979a-7d4775ed4097",
   "metadata": {},
   "outputs": [
    {
     "name": "stdout",
     "output_type": "stream",
     "text": [
      "✅ Model training complete.\n",
      "\n",
      "🔹 Model Accuracy: 55.00%\n",
      "\n",
      "Classification Report:\n",
      "\n",
      "              precision    recall  f1-score   support\n",
      "\n",
      "           0       0.69      0.64      0.67        28\n",
      "           1       0.29      0.33      0.31        12\n",
      "\n",
      "    accuracy                           0.55        40\n",
      "   macro avg       0.49      0.49      0.49        40\n",
      "weighted avg       0.57      0.55      0.56        40\n",
      "\n"
     ]
    },
    {
     "data": {
      "image/png": "[encoded data removed]",
      "text/plain": [
       "<Figure size 600x400 with 2 Axes>"
      ]
     },
     "metadata": {},
     "output_type": "display_data"
    }
   ],
   "source": [
    "# Train and Evaluate Model\n",
    "\n",
    "from sklearn.linear_model import LogisticRegression\n",
    "from sklearn.metrics import accuracy_score, classification_report, confusion_matrix\n",
    "import seaborn as sns\n",
    "import matplotlib.pyplot as plt\n",
    "\n",
    "# 1️⃣ Initialize and train model\n",
    "model = LogisticRegression(max_iter=1000, random_state=42, class_weight='balanced')\n",
    "\n",
    "model.fit(X_train_scaled, y_train)\n",
    "\n",
    "print(\"✅ Model training complete.\\n\")\n",
    "\n",
    "# 2️⃣ Make predictions\n",
    "y_pred = model.predict(X_test_scaled)\n",
    "\n",
    "# 3️⃣ Evaluate accuracy\n",
    "accuracy = accuracy_score(y_test, y_pred)\n",
    "print(f\"🔹 Model Accuracy: {accuracy * 100:.2f}%\\n\")\n",
    "\n",
    "# 4️⃣ Detailed classification report\n",
    "print(\"Classification Report:\\n\")\n",
    "print(classification_report(y_test, y_pred))\n",
    "\n",
    "# 5️⃣ Confusion Matrix visualization\n",
    "plt.figure(figsize=(6,4))\n",
    "sns.heatmap(confusion_matrix(y_test, y_pred), annot=True, fmt='d', cmap='Blues')\n",
    "plt.title(\"Confusion Matrix\")\n",
    "plt.xlabel(\"Predicted\")\n",
    "plt.ylabel(\"Actual\")\n",
    "plt.show()\n"
   ]
  },
  {
   "cell_type": "code",
   "execution_count": 17,
   "id": "72f37cdd-13a7-4ad4-8e60-5a1313b52519",
   "metadata": {},
   "outputs": [
    {
     "name": "stdout",
     "output_type": "stream",
     "text": [
      "🧩 Input used (after encoding & scaling):\n",
      "   weather  road_type  vehicle_type  light_condition  speed  age_of_driver\n",
      "0        0          2             1                1     70             40\n",
      "🚦 Predicted Accident Severity: 0\n"
     ]
    },
    {
     "data": {
      "text/plain": [
       "np.int64(0)"
      ]
     },
     "execution_count": 17,
     "metadata": {},
     "output_type": "execute_result"
    }
   ],
   "source": [
    "# -------------------------------\n",
    "# Real-Time Prediction Helper\n",
    "# -------------------------------\n",
    "import pandas as pd\n",
    "import numpy as np\n",
    "\n",
    "# ✅ 1️⃣ Use the same features your model was trained on\n",
    "trained_features = ['weather', 'road_type', 'vehicle_type', 'light_condition', 'speed', 'age_of_driver']\n",
    "\n",
    "# ✅ 2️⃣ Define how user input maps to those features\n",
    "input_mapping = {\n",
    "    'Weather_conditions': 'weather',\n",
    "    'Road_surface_type': 'road_type',\n",
    "    'Type_of_vehicle': 'vehicle_type',\n",
    "    'Light_conditions': 'light_condition',\n",
    "    'Speed': 'speed',\n",
    "    'Age_band_of_driver': 'age_of_driver'\n",
    "}\n",
    "\n",
    "# ✅ 3️⃣ (Optional) Convert age band to numeric if needed\n",
    "age_band_map = {\n",
    "    'Under 18': 16,\n",
    "    '18-30': 25,\n",
    "    '31-50': 40,\n",
    "    'Over 50': 60\n",
    "}\n",
    "\n",
    "# ✅ 4️⃣ Define helper function\n",
    "def prepare_input(raw_dict):\n",
    "    processed = {}\n",
    "\n",
    "    for user_key, model_key in input_mapping.items():\n",
    "        if user_key not in raw_dict:\n",
    "            raise ValueError(f\"Missing required field: {user_key}\")\n",
    "        val = raw_dict[user_key]\n",
    "        if user_key == 'Age_band_of_driver':\n",
    "            val = age_band_map.get(val, 30)  # default 30 if unknown\n",
    "        processed[model_key] = val\n",
    "\n",
    "    # Build DataFrame in the same order as training\n",
    "    df_input = pd.DataFrame([processed], columns=trained_features)\n",
    "\n",
    "    # Encode categorical features\n",
    "    for col in df_input.columns:\n",
    "        if col in label_encoders:\n",
    "            le = label_encoders[col]\n",
    "            if df_input[col][0] not in le.classes_:\n",
    "                raise ValueError(f\"'{df_input[col][0]}' not seen during training for '{col}'\")\n",
    "            df_input[col] = le.transform(df_input[col])\n",
    "\n",
    "    # Scale\n",
    "    scaled = scaler.transform(df_input)\n",
    "    return scaled, df_input\n",
    "\n",
    "\n",
    "# ✅ 5️⃣ Prediction wrapper\n",
    "def predict_new_accident(raw_input):\n",
    "    scaled, df_used = prepare_input(raw_input)\n",
    "    pred = model.predict(scaled)[0]\n",
    "\n",
    "    # Decode label\n",
    "    target_col = 'accident_severity'\n",
    "    if target_col in label_encoders:\n",
    "        label = label_encoders[target_col].inverse_transform([pred])[0]\n",
    "    else:\n",
    "        label = pred\n",
    "\n",
    "    print(\"🧩 Input used (after encoding & scaling):\")\n",
    "    print(df_used)\n",
    "    print(\"🚦 Predicted Accident Severity:\", label)\n",
    "    return label\n",
    "\n",
    "\n",
    "# ✅ 6️⃣ Example usage\n",
    "example_input = {\n",
    "    'Age_band_of_driver': '31-50',\n",
    "    'Type_of_vehicle': 'Car',\n",
    "    'Road_surface_type': 'Urban',\n",
    "    'Light_conditions': 'Daylight',\n",
    "    'Weather_conditions': 'Clear',\n",
    "    'Speed': 70\n",
    "}\n",
    "\n",
    "\n",
    "predict_new_accident(example_input)\n"
   ]
  },
  {
   "cell_type": "code",
   "execution_count": 18,
   "id": "5f27a277-43da-4d53-9a48-86e8af9ceedd",
   "metadata": {},
   "outputs": [
    {
     "name": "stdout",
     "output_type": "stream",
     "text": [
      "Input used (after mapping & encoding):\n",
      "   weather  road_type  vehicle_type  light_condition  speed  age_of_driver\n",
      "0        0          2             1                1     80             40\n",
      "Predicted label: 0\n"
     ]
    }
   ],
   "source": [
    "# -------------------------------\n",
    "# Prepare & predict helper (copy into notebook)\n",
    "# -------------------------------\n",
    "import pandas as pd\n",
    "import numpy as np\n",
    "\n",
    "# 1) List of features the model was trained on (exact order)\n",
    "# Replace this list with the exact X.columns used during training if different\n",
    "trained_features = ['weather', 'road_type', 'vehicle_type', 'light_condition', 'speed', 'age_of_driver']\n",
    "\n",
    "# 2) Mapping from raw user keys to model keys (adjust to your raw input keys)\n",
    "raw_to_model = {\n",
    "    'Weather_conditions': 'weather',\n",
    "    'Road_surface_type': 'road_type',        # adjust if you used a different name\n",
    "    'Type_of_vehicle': 'vehicle_type',\n",
    "    'Light_conditions': 'light_condition',\n",
    "    'Speed': 'speed',                        # numeric\n",
    "    'Age_band_of_driver': 'age_of_driver',   # if training used continuous age, you'll need to convert band -> number\n",
    "    # add other mappings if needed\n",
    "}\n",
    "\n",
    "# 3) Helper to convert age band to a representative numeric age (if you trained on numeric age)\n",
    "age_band_to_age = {\n",
    "    'Under 18': 16,\n",
    "    '18-30': 24,\n",
    "    '31-50': 40,\n",
    "    'Over 50': 60\n",
    "}\n",
    "\n",
    "# 4) Prepare input function\n",
    "def prepare_input(raw_input: dict):\n",
    "    \"\"\"\n",
    "    raw_input: dict with keys like 'Age_band_of_driver','Weather_conditions', etc.\n",
    "    returns: DataFrame with columns ordered exactly like trained_features, encoded and scaled.\n",
    "    Will raise ValueError with useful message when input is invalid or contains unseen categories.\n",
    "    \"\"\"\n",
    "    # 4.1 rename keys\n",
    "    processed = {}\n",
    "    for raw_k, v in raw_input.items():\n",
    "        if raw_k in raw_to_model:\n",
    "            processed_key = raw_to_model[raw_k]\n",
    "            # convert age band to numeric if needed\n",
    "            if raw_k == 'Age_band_of_driver':\n",
    "                if v not in age_band_to_age:\n",
    "                    raise ValueError(f\"Unknown age band '{v}'. Allowed: {list(age_band_to_age.keys())}\")\n",
    "                processed[processed_key] = age_band_to_age[v]\n",
    "            else:\n",
    "                processed[processed_key] = v\n",
    "        else:\n",
    "            # ignore unknown raw keys (or raise if you prefer)\n",
    "            pass\n",
    "\n",
    "    # 4.2 ensure all trained features are present (for numeric missing, provide defaults or raise)\n",
    "    # Provide reasonable defaults for numeric features if missing\n",
    "    defaults = {'speed': 50, 'age_of_driver': 30}\n",
    "    for feat in trained_features:\n",
    "        if feat not in processed:\n",
    "            if feat in defaults:\n",
    "                processed[feat] = defaults[feat]\n",
    "            else:\n",
    "                raise ValueError(f\"Missing required feature '{feat}'. Provide it in the input or update mapping.\")\n",
    "\n",
    "    # 4.3 build DataFrame in exact feature order\n",
    "    df_in = pd.DataFrame([processed], columns=trained_features)\n",
    "\n",
    "    # 4.4 Validate categorical values against the saved label_encoders\n",
    "    # Note: label_encoders is the dict you built during preprocessing and kept in memory\n",
    "    for col, le in label_encoders.items():\n",
    "        if col in df_in.columns:\n",
    "            # le.classes_ are the allowed strings seen during fit\n",
    "            if df_in[col].dtype == object:\n",
    "                val = df_in.at[0, col]\n",
    "                if val not in list(le.classes_):\n",
    "                    raise ValueError(\n",
    "                        f\"Value '{val}' for feature '{col}' was NOT seen during training.\\n\"\n",
    "                        f\"Allowed values: {list(le.classes_)}\"\n",
    "                    )\n",
    "            # If the column is numeric but an encoder exists, attempt safe transform\n",
    "            try:\n",
    "                df_in[col] = le.transform(df_in[col])\n",
    "            except Exception as e:\n",
    "                # If the encoder expects strings and we supplied numeric (or vice versa), try to coerce then transform\n",
    "                try:\n",
    "                    df_in[col] = le.transform(df_in[col].astype(str))\n",
    "                except Exception:\n",
    "                    raise ValueError(f\"Encoding error for feature '{col}': {e}\")\n",
    "\n",
    "    # 4.5 Scale using the same scaler used in training\n",
    "    # scaler is expected to be the StandardScaler instance used earlier\n",
    "    try:\n",
    "        X_ready = scaler.transform(df_in)\n",
    "    except Exception as e:\n",
    "        raise ValueError(f\"Scaler transform error: {e}\")\n",
    "\n",
    "    return X_ready, df_in  # return both for debug/inspection\n",
    "\n",
    "# 5) Predict function\n",
    "def predict_from_raw(raw_input: dict):\n",
    "    X_ready, df_in = prepare_input(raw_input)\n",
    "    pred_numeric = model.predict(X_ready)[0]  # 0/1 etc.\n",
    "    # decode numeric prediction to original label string if label encoder exists for target\n",
    "    target_col = 'accident_severity'  # adjust if different\n",
    "    if target_col in label_encoders:\n",
    "        pred_label = label_encoders[target_col].inverse_transform([pred_numeric])[0]\n",
    "    else:\n",
    "        pred_label = pred_numeric\n",
    "    return pred_label, df_in, pred_numeric\n",
    "\n",
    "# -------------------------------\n",
    "# Example usage (replace values with your inputs)\n",
    "raw_example = {\n",
    "    'Age_band_of_driver': '31-50',\n",
    "    'Type_of_vehicle': 'Car',\n",
    "    'Road_surface_type': 'Urban',\n",
    "    'Light_conditions': 'Daylight',\n",
    "    'Weather_conditions': 'Clear',\n",
    "    'Speed': 80\n",
    "}\n",
    "\n",
    "pred_label, df_used, pred_num = predict_from_raw(raw_example)\n",
    "print(\"Input used (after mapping & encoding):\")\n",
    "print(df_used)\n",
    "print(\"Predicted label:\", pred_label)\n"
   ]
  },
  {
   "cell_type": "code",
   "execution_count": 20,
   "id": "dc6fa3fa-4009-4cbb-ab6a-bc3769bcec44",
   "metadata": {},
   "outputs": [
    {
     "name": "stdout",
     "output_type": "stream",
     "text": [
      "✅ Model saved successfully at: ../models/road_accident_severity_model.joblib\n"
     ]
    }
   ],
   "source": [
    "import joblib\n",
    "import os\n",
    "\n",
    "# ✅ Create 'models' folder if it doesn't exist\n",
    "os.makedirs(\"../models\", exist_ok=True)\n",
    "\n",
    "# ✅ Save trained model\n",
    "model_path = \"../models/road_accident_severity_model.joblib\"\n",
    "joblib.dump(model, model_path)\n",
    "print(f\"✅ Model saved successfully at: {model_path}\")\n"
   ]
  },
  {
   "cell_type": "markdown",
   "id": "a6b9dad1-acaf-46e1-8161-2145d560cca4",
   "metadata": {},
   "source": [
    "<font size=\"5\"><b>🔹 Step 4: Save Trained Model</b></font>"
   ]
  },
  {
   "cell_type": "code",
   "execution_count": 19,
   "id": "6e035ef1-8aee-4c0e-abab-db65148f56b9",
   "metadata": {},
   "outputs": [
    {
     "name": "stdout",
     "output_type": "stream",
     "text": [
      "✅ Model saved successfully in the models/ folder\n"
     ]
    }
   ],
   "source": [
    "import joblib\n",
    "import os\n",
    "\n",
    "# Create models folder if it doesn't exist\n",
    "os.makedirs(\"models\", exist_ok=True)\n",
    "\n",
    "# Save the trained model\n",
    "joblib.dump(model, \"models/accident_severity_model.joblib\")\n",
    "\n",
    "print(\"✅ Model saved successfully in the models/ folder\")\n"
   ]
  },
  {
   "cell_type": "markdown",
   "id": "85a61a21-2589-4f18-8fce-f51bae8879df",
   "metadata": {},
   "source": [
    "## 🏁 Project Summary\n",
    "\n",
    "This project analyzes road accident data to predict **accident severity** using a Logistic Regression model.\n",
    "\n",
    "**Key Steps:**\n",
    "- Cleaned and preprocessed the dataset (handled missing values, encoded categoricals, scaled features)\n",
    "- Trained a logistic regression model with balanced class weights\n",
    "- Achieved ~55–70% accuracy depending on data distribution\n",
    "- Built a real-time prediction helper for new accident scenarios\n",
    "\n",
    "**Key Insights:**\n",
    "- Most accidents occurred under *Clear weather* and *Daylight*\n",
    "- Speed and driver age were significant predictors of severity\n",
    "- Class imbalance (more minor than severe accidents) impacted performance\n",
    "\n",
    "**Next Improvements:**\n",
    "- Try more powerful models (Random Forest, XGBoost)\n",
    "- Use cross-validation for stable metrics\n",
    "- Deploy model as a web app using Streamlit or Flask\n"
   ]
  }
 ],
 "metadata": {
  "kernelspec": {
   "display_name": "Python 3 (ipykernel)",
   "language": "python",
   "name": "python3"
  },
  "language_info": {
   "codemirror_mode": {
    "name": "ipython",
    "version": 3
   },
   "file_extension": ".py",
   "mimetype": "text/x-python",
   "name": "python",
   "nbconvert_exporter": "python",
   "pygments_lexer": "ipython3",
   "version": "3.13.3"
  }
 },
 "nbformat": 4,
 "nbformat_minor": 5
}
