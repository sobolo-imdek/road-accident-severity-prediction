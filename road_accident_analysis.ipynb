{
 "cells": [
  {
   "cell_type": "code",
   "execution_count": 1,
   "id": "c25bcdef-6f5f-4eab-b4c3-5e9a7628fa39",
   "metadata": {},
   "outputs": [
    {
     "name": "stderr",
     "output_type": "stream",
     "text": [
      "Matplotlib is building the font cache; this may take a moment.\n"
     ]
    },
    {
     "name": "stdout",
     "output_type": "stream",
     "text": [
      "✅ All libraries imported successfully!\n"
     ]
    }
   ],
   "source": [
    "import pandas as pd\n",
    "import numpy as np\n",
    "import matplotlib.pyplot as plt\n",
    "import seaborn as sns\n",
    "from sklearn.model_selection import train_test_split\n",
    "from sklearn.preprocessing import StandardScaler\n",
    "from sklearn.linear_model import LogisticRegression\n",
    "from sklearn.metrics import accuracy_score, classification_report, confusion_matrix\n",
    "import joblib\n",
    "\n",
    "print(\"✅ All libraries imported successfully!\")\n"
   ]
  },
  {
   "cell_type": "code",
   "execution_count": 13,
   "id": "90ff3d13-4f24-4165-a77f-f32f5da48aa6",
   "metadata": {},
   "outputs": [
    {
     "name": "stdout",
     "output_type": "stream",
     "text": [
      "⚠️ No dataset found — generating sample data for testing.\n"
     ]
    }
   ],
   "source": [
    "import pandas as pd\n",
    "import os\n",
    "\n",
    "# ✅ Check for a real dataset\n",
    "data_path = \"../data/accidents.csv\"\n",
    "\n",
    "if os.path.exists(data_path):\n",
    "    df = pd.read_csv(data_path)\n",
    "    print(f\"✅ Loaded dataset from {data_path} — {df.shape[0]} rows, {df.shape[1]} columns.\")\n",
    "else:\n",
    "    print(\"⚠️ No dataset found — generating sample data for testing.\")\n",
    "    import numpy as np\n",
    "    np.random.seed(42)\n",
    "    df = pd.DataFrame({\n",
    "        'weather': np.random.choice(['Clear', 'Rainy', 'Foggy', 'Snowy'], 200),\n",
    "        'road_type': np.random.choice(['Highway', 'Rural', 'Urban'], 200),\n",
    "        'vehicle_type': np.random.choice(['Car', 'Motorcycle', 'Truck', 'Bus'], 200),\n",
    "        'light_condition': np.random.choice(['Daylight', 'Dark'], 200),\n",
    "        'speed': np.random.randint(30, 120, 200),\n",
    "        'age_of_driver': np.random.randint(18, 70, 200),\n",
    "        'accident_severity': np.random.choice([0, 1], 200, p=[0.7, 0.3])\n",
    "    })\n",
    "\n"
   ]
  },
  {
   "cell_type": "code",
   "execution_count": 3,
   "id": "3900f3b6-9658-4a2c-b4fa-47b102a5cd4c",
   "metadata": {},
   "outputs": [
    {
     "name": "stdout",
     "output_type": "stream",
     "text": [
      "Shape of dataset: (200, 15)\n",
      "\n",
      "Columns:\n",
      " ['Age_band_of_driver', 'Sex_of_driver', 'Educational_level', 'Vehicle_driver_relation', 'Driving_experience', 'Type_of_vehicle', 'Area_accident_occured', 'Day_of_week', 'Time_to_accident', 'Lanes_or_Medians', 'Road_surface_type', 'Light_conditions', 'Weather_conditions', 'Number_of_casualties', 'Accident_severity']\n",
      "\n",
      "Data types:\n",
      "\n",
      "Age_band_of_driver         object\n",
      "Sex_of_driver              object\n",
      "Educational_level          object\n",
      "Vehicle_driver_relation    object\n",
      "Driving_experience         object\n",
      "Type_of_vehicle            object\n",
      "Area_accident_occured      object\n",
      "Day_of_week                object\n",
      "Time_to_accident           object\n",
      "Lanes_or_Medians           object\n",
      "Road_surface_type          object\n",
      "Light_conditions           object\n",
      "Weather_conditions         object\n",
      "Number_of_casualties        int32\n",
      "Accident_severity          object\n",
      "dtype: object\n",
      "\n",
      "Missing values:\n",
      "\n",
      "Age_band_of_driver         0\n",
      "Sex_of_driver              0\n",
      "Educational_level          0\n",
      "Vehicle_driver_relation    0\n",
      "Driving_experience         0\n",
      "Type_of_vehicle            0\n",
      "Area_accident_occured      0\n",
      "Day_of_week                0\n",
      "Time_to_accident           0\n",
      "Lanes_or_Medians           0\n",
      "Road_surface_type          0\n",
      "Light_conditions           0\n",
      "Weather_conditions         0\n",
      "Number_of_casualties       0\n",
      "Accident_severity          0\n",
      "dtype: int64\n",
      "\n",
      "Age_band_of_driver: ['18-30' 'Over 50' '31-50' 'Under 18']\n",
      "\n",
      "Sex_of_driver: ['Female' 'Male']\n",
      "\n",
      "Educational_level: ['None' 'University' 'College' 'High School']\n",
      "\n",
      "Vehicle_driver_relation: ['Employee' 'Owner' 'Other']\n",
      "\n",
      "Driving_experience: ['5-10yr' 'Above 10yr' 'Below 5yr']\n",
      "\n",
      "Type_of_vehicle: ['Car' 'Bus' 'Motorcycle' 'Truck']\n",
      "\n",
      "Area_accident_occured: ['Rural' 'Urban']\n",
      "\n",
      "Day_of_week: ['Thursday' 'Saturday' 'Monday' 'Sunday' 'Friday']\n",
      "\n",
      "Time_to_accident: ['Morning' 'Night' 'Evening' 'Afternoon']\n",
      "\n",
      "Lanes_or_Medians: ['One lane' 'More than two' 'Two lanes']\n",
      "\n",
      "Road_surface_type: ['Gravel' 'Dirt' 'Asphalt']\n",
      "\n",
      "Light_conditions: ['Darkness' 'Daylight']\n",
      "\n",
      "Weather_conditions: ['Foggy' 'Clear' 'Rainy']\n",
      "\n",
      "Accident_severity: ['Slight Injury' 'Fatal' 'Serious Injury']\n"
     ]
    }
   ],
   "source": [
    "# Check basic info\n",
    "print(\"Shape of dataset:\", df.shape)\n",
    "print(\"\\nColumns:\\n\", df.columns.tolist())\n",
    "print(\"\\nData types:\\n\")\n",
    "print(df.dtypes)\n",
    "print(\"\\nMissing values:\\n\")\n",
    "print(df.isnull().sum())\n",
    "\n",
    "# View some unique values\n",
    "for col in df.select_dtypes(include='object').columns:\n",
    "    print(f\"\\n{col}: {df[col].unique()[:5]}\")\n"
   ]
  },
  {
   "cell_type": "code",
   "execution_count": 7,
   "id": "460c70c0-0dea-4853-93b0-d1b0a54c589a",
   "metadata": {},
   "outputs": [
    {
     "name": "stdout",
     "output_type": "stream",
     "text": [
      "✅ All categorical columns encoded.\n",
      "\n",
      "Feature set shape: (200, 14)\n",
      "Target shape: (200,)\n",
      "\n",
      "✅ Data split complete:\n",
      "Training set: (160, 14)\n",
      "Testing set:  (40, 14)\n",
      "\n"
     ]
    }
   ],
   "source": [
    "# Step 6: Data Preprocessing\n",
    "\n",
    "from sklearn.preprocessing import LabelEncoder\n",
    "from sklearn.model_selection import train_test_split\n",
    "from sklearn.preprocessing import StandardScaler\n",
    "\n",
    "# 1️⃣  Encode categorical columns\n",
    "df_encoded = df.copy()\n",
    "label_encoders = {}\n",
    "\n",
    "for col in df_encoded.select_dtypes(include='object').columns:\n",
    "    le = LabelEncoder()\n",
    "    df_encoded[col] = le.fit_transform(df_encoded[col])\n",
    "    label_encoders[col] = le  # Save encoders for later decoding if needed\n",
    "\n",
    "print(\"✅ All categorical columns encoded.\\n\")\n",
    "\n",
    "# 2️⃣  Split features (X) and target (y)\n",
    "X = df_encoded.drop('Accident_severity', axis=1)\n",
    "y = df_encoded['Accident_severity']\n",
    "\n",
    "print(f\"Feature set shape: {X.shape}\")\n",
    "print(f\"Target shape: {y.shape}\\n\")\n",
    "\n",
    "# 3️⃣  Split data into training & testing sets (80 / 20)\n",
    "X_train, X_test, y_train, y_test = train_test_split(\n",
    "    X, y, test_size=0.2, random_state=42, stratify=y\n",
    ")\n",
    "\n",
    "print(\"✅ Data split complete:\")\n",
    "print(f\"Training set: {X_train.shape}\")\n",
    "print(f\"Testing set:  {X_test.shape}\\n\")\n",
    "\n",
    "#\n"
   ]
  },
  {
   "cell_type": "code",
   "execution_count": 9,
   "id": "c67682ab-c600-43e0-8122-2072af5469b2",
   "metadata": {},
   "outputs": [
    {
     "name": "stdout",
     "output_type": "stream",
     "text": [
      "✅ Scaling complete.\n"
     ]
    }
   ],
   "source": [
    "from sklearn.preprocessing import StandardScaler\n",
    "\n",
    "scaler = StandardScaler()\n",
    "X_train_scaled = scaler.fit_transform(X_train)\n",
    "X_test_scaled = scaler.transform(X_test)\n",
    "\n",
    "print(\"✅ Scaling complete.\")\n"
   ]
  },
  {
   "cell_type": "code",
   "execution_count": 10,
   "id": "af631a8e-3e3b-4c2e-979a-7d4775ed4097",
   "metadata": {},
   "outputs": [
    {
     "name": "stdout",
     "output_type": "stream",
     "text": [
      "✅ Model training complete.\n",
      "\n",
      "🔹 Model Accuracy: 27.50%\n",
      "\n",
      "Classification Report:\n",
      "\n",
      "              precision    recall  f1-score   support\n",
      "\n",
      "           0       0.00      0.00      0.00        11\n",
      "           1       0.37      0.50      0.42        14\n",
      "           2       0.24      0.27      0.25        15\n",
      "\n",
      "    accuracy                           0.28        40\n",
      "   macro avg       0.20      0.26      0.22        40\n",
      "weighted avg       0.22      0.28      0.24        40\n",
      "\n"
     ]
    },
    {
     "data": {
      "image/png": "[encoded data removed]",
      "text/plain": [
       "<Figure size 600x400 with 2 Axes>"
      ]
     },
     "metadata": {},
     "output_type": "display_data"
    }
   ],
   "source": [
    "# Step 7: Train and Evaluate Model\n",
    "\n",
    "from sklearn.linear_model import LogisticRegression\n",
    "from sklearn.metrics import accuracy_score, classification_report, confusion_matrix\n",
    "import seaborn as sns\n",
    "import matplotlib.pyplot as plt\n",
    "\n",
    "# 1️⃣ Initialize and train model\n",
    "model = LogisticRegression(max_iter=1000, random_state=42)\n",
    "model.fit(X_train_scaled, y_train)\n",
    "\n",
    "print(\"✅ Model training complete.\\n\")\n",
    "\n",
    "# 2️⃣ Make predictions\n",
    "y_pred = model.predict(X_test_scaled)\n",
    "\n",
    "# 3️⃣ Evaluate accuracy\n",
    "accuracy = accuracy_score(y_test, y_pred)\n",
    "print(f\"🔹 Model Accuracy: {accuracy * 100:.2f}%\\n\")\n",
    "\n",
    "# 4️⃣ Detailed classification report\n",
    "print(\"Classification Report:\\n\")\n",
    "print(classification_report(y_test, y_pred))\n",
    "\n",
    "# 5️⃣ Confusion Matrix visualization\n",
    "plt.figure(figsize=(6,4))\n",
    "sns.heatmap(confusion_matrix(y_test, y_pred), annot=True, fmt='d', cmap='Blues')\n",
    "plt.title(\"Confusion Matrix\")\n",
    "plt.xlabel(\"Predicted\")\n",
    "plt.ylabel(\"Actual\")\n",
    "plt.show()\n"
   ]
  },
  {
   "cell_type": "code",
   "execution_count": 11,
   "id": "f46c7f33-53be-4a9c-87d8-82a38a9ebb50",
   "metadata": {},
   "outputs": [
    {
     "name": "stdout",
     "output_type": "stream",
     "text": [
      "🚦 Predicted Accident Severity: Slight Injury\n"
     ]
    }
   ],
   "source": [
    "# Step 8: Make Real-Time Predictions\n",
    "\n",
    "import numpy as np\n",
    "import pandas as pd\n",
    "\n",
    "# ✅ 1️⃣ Create a new accident record (example input)\n",
    "new_accident = {\n",
    "    'Age_band_of_driver': '31-50',\n",
    "    'Sex_of_driver': 'Male',\n",
    "    'Educational_level': 'College',\n",
    "    'Vehicle_driver_relation': 'Owner',\n",
    "    'Driving_experience': '5-10yr',\n",
    "    'Type_of_vehicle': 'Car',\n",
    "    'Area_accident_occured': 'Urban',\n",
    "    'Day_of_week': 'Friday',\n",
    "    'Time_to_accident': 'Evening',\n",
    "    'Lanes_or_Medians': 'Two lanes',\n",
    "    'Road_surface_type': 'Asphalt',\n",
    "    'Light_conditions': 'Daylight',\n",
    "    'Weather_conditions': 'Clear',\n",
    "    'Number_of_casualties': 2\n",
    "}\n",
    "\n",
    "# ✅ 2️⃣ Convert to DataFrame\n",
    "new_df = pd.DataFrame([new_accident])\n",
    "\n",
    "# ✅ 3️⃣ Encode using the same label encoders used during training\n",
    "for col, le in label_encoders.items():\n",
    "    if col in new_df.columns:\n",
    "        new_df[col] = le.transform(new_df[col])\n",
    "\n",
    "# ✅ 4️⃣ Scale the new data using the same scaler\n",
    "new_scaled = scaler.transform(new_df)\n",
    "\n",
    "# ✅ 5️⃣ Make prediction\n",
    "prediction = model.predict(new_scaled)[0]\n",
    "\n",
    "# ✅ 6️⃣ Decode numeric prediction back to label\n",
    "predicted_label = label_encoders['Accident_severity'].inverse_transform([prediction])[0]\n",
    "\n",
    "print(\"🚦 Predicted Accident Severity:\", predicted_label)\n"
   ]
  },
  {
   "cell_type": "code",
   "execution_count": 12,
   "id": "c30971d0-a556-476e-845d-d53a7dbf92e3",
   "metadata": {},
   "outputs": [
    {
     "name": "stdout",
     "output_type": "stream",
     "text": [
      "✅ Model saved successfully at: ../models/road_accident_severity_model.joblib\n"
     ]
    }
   ],
   "source": [
    "import joblib\n",
    "import os\n",
    "\n",
    "# ✅ Create 'models' folder if it doesn't exist\n",
    "os.makedirs(\"../models\", exist_ok=True)\n",
    "\n",
    "# ✅ Save trained model\n",
    "model_path = \"../models/road_accident_severity_model.joblib\"\n",
    "joblib.dump(model, model_path)\n",
    "print(f\"✅ Model saved successfully at: {model_path}\")\n"
   ]
  },
  {
   "cell_type": "code",
   "execution_count": 14,
   "id": "6e035ef1-8aee-4c0e-abab-db65148f56b9",
   "metadata": {},
   "outputs": [
    {
     "name": "stdout",
     "output_type": "stream",
     "text": [
      "✅ Model saved successfully in the models/ folder\n"
     ]
    }
   ],
   "source": [
    "import joblib\n",
    "import os\n",
    "\n",
    "# Create models folder if it doesn't exist\n",
    "os.makedirs(\"models\", exist_ok=True)\n",
    "\n",
    "# Save the trained model\n",
    "joblib.dump(model, \"models/accident_severity_model.joblib\")\n",
    "\n",
    "print(\"✅ Model saved successfully in the models/ folder\")\n"
   ]
  },
  {
   "cell_type": "code",
   "execution_count": null,
   "id": "fa2fba54-ed61-45da-8db4-956440224a36",
   "metadata": {},
   "outputs": [],
   "source": []
  }
 ],
 "metadata": {
  "kernelspec": {
   "display_name": "Python 3 (ipykernel)",
   "language": "python",
   "name": "python3"
  },
  "language_info": {
   "codemirror_mode": {
    "name": "ipython",
    "version": 3
   },
   "file_extension": ".py",
   "mimetype": "text/x-python",
   "name": "python",
   "nbconvert_exporter": "python",
   "pygments_lexer": "ipython3",
   "version": "3.13.3"
  }
 },
 "nbformat": 4,
 "nbformat_minor": 5
}
